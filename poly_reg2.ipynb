{
 "cells": [
  {
   "cell_type": "code",
   "execution_count": 119,
   "id": "03d8a580",
   "metadata": {},
   "outputs": [],
   "source": [
    "import numpy as np\n",
    "import pandas as pd\n",
    "import matplotlib.pyplot as plt"
   ]
  },
  {
   "cell_type": "code",
   "execution_count": 120,
   "id": "53d6930b",
   "metadata": {},
   "outputs": [],
   "source": [
    "data=pd.read_csv(\"C:\\\\Users\\\\Sathish\\\\OneDrive\\\\Desktop\\\\data set\\\\Ice_cream selling data.csv\");"
   ]
  },
  {
   "cell_type": "code",
   "execution_count": 121,
   "id": "a3435831",
   "metadata": {},
   "outputs": [
    {
     "data": {
      "text/html": [
       "<div>\n",
       "<style scoped>\n",
       "    .dataframe tbody tr th:only-of-type {\n",
       "        vertical-align: middle;\n",
       "    }\n",
       "\n",
       "    .dataframe tbody tr th {\n",
       "        vertical-align: top;\n",
       "    }\n",
       "\n",
       "    .dataframe thead th {\n",
       "        text-align: right;\n",
       "    }\n",
       "</style>\n",
       "<table border=\"1\" class=\"dataframe\">\n",
       "  <thead>\n",
       "    <tr style=\"text-align: right;\">\n",
       "      <th></th>\n",
       "      <th>Temperature (°C)</th>\n",
       "      <th>Ice Cream Sales (units)</th>\n",
       "    </tr>\n",
       "  </thead>\n",
       "  <tbody>\n",
       "    <tr>\n",
       "      <th>0</th>\n",
       "      <td>-4.662263</td>\n",
       "      <td>41.842986</td>\n",
       "    </tr>\n",
       "    <tr>\n",
       "      <th>1</th>\n",
       "      <td>-4.316559</td>\n",
       "      <td>34.661120</td>\n",
       "    </tr>\n",
       "    <tr>\n",
       "      <th>2</th>\n",
       "      <td>-4.213985</td>\n",
       "      <td>39.383001</td>\n",
       "    </tr>\n",
       "    <tr>\n",
       "      <th>3</th>\n",
       "      <td>-3.949661</td>\n",
       "      <td>37.539845</td>\n",
       "    </tr>\n",
       "    <tr>\n",
       "      <th>4</th>\n",
       "      <td>-3.578554</td>\n",
       "      <td>32.284531</td>\n",
       "    </tr>\n",
       "  </tbody>\n",
       "</table>\n",
       "</div>"
      ],
      "text/plain": [
       "   Temperature (°C)  Ice Cream Sales (units)\n",
       "0         -4.662263                41.842986\n",
       "1         -4.316559                34.661120\n",
       "2         -4.213985                39.383001\n",
       "3         -3.949661                37.539845\n",
       "4         -3.578554                32.284531"
      ]
     },
     "execution_count": 121,
     "metadata": {},
     "output_type": "execute_result"
    }
   ],
   "source": [
    "data.head()"
   ]
  },
  {
   "cell_type": "code",
   "execution_count": 122,
   "id": "7f46361d",
   "metadata": {},
   "outputs": [
    {
     "data": {
      "text/html": [
       "<div>\n",
       "<style scoped>\n",
       "    .dataframe tbody tr th:only-of-type {\n",
       "        vertical-align: middle;\n",
       "    }\n",
       "\n",
       "    .dataframe tbody tr th {\n",
       "        vertical-align: top;\n",
       "    }\n",
       "\n",
       "    .dataframe thead th {\n",
       "        text-align: right;\n",
       "    }\n",
       "</style>\n",
       "<table border=\"1\" class=\"dataframe\">\n",
       "  <thead>\n",
       "    <tr style=\"text-align: right;\">\n",
       "      <th></th>\n",
       "      <th>Temperature (°C)</th>\n",
       "      <th>Ice Cream Sales (units)</th>\n",
       "    </tr>\n",
       "  </thead>\n",
       "  <tbody>\n",
       "    <tr>\n",
       "      <th>count</th>\n",
       "      <td>49.000000</td>\n",
       "      <td>49.000000</td>\n",
       "    </tr>\n",
       "    <tr>\n",
       "      <th>mean</th>\n",
       "      <td>0.271755</td>\n",
       "      <td>15.905308</td>\n",
       "    </tr>\n",
       "    <tr>\n",
       "      <th>std</th>\n",
       "      <td>2.697672</td>\n",
       "      <td>12.264682</td>\n",
       "    </tr>\n",
       "    <tr>\n",
       "      <th>min</th>\n",
       "      <td>-4.662263</td>\n",
       "      <td>0.328626</td>\n",
       "    </tr>\n",
       "    <tr>\n",
       "      <th>25%</th>\n",
       "      <td>-2.111870</td>\n",
       "      <td>4.857988</td>\n",
       "    </tr>\n",
       "    <tr>\n",
       "      <th>50%</th>\n",
       "      <td>0.688781</td>\n",
       "      <td>12.615181</td>\n",
       "    </tr>\n",
       "    <tr>\n",
       "      <th>75%</th>\n",
       "      <td>2.784836</td>\n",
       "      <td>25.142082</td>\n",
       "    </tr>\n",
       "    <tr>\n",
       "      <th>max</th>\n",
       "      <td>4.899032</td>\n",
       "      <td>41.842986</td>\n",
       "    </tr>\n",
       "  </tbody>\n",
       "</table>\n",
       "</div>"
      ],
      "text/plain": [
       "       Temperature (°C)  Ice Cream Sales (units)\n",
       "count         49.000000                49.000000\n",
       "mean           0.271755                15.905308\n",
       "std            2.697672                12.264682\n",
       "min           -4.662263                 0.328626\n",
       "25%           -2.111870                 4.857988\n",
       "50%            0.688781                12.615181\n",
       "75%            2.784836                25.142082\n",
       "max            4.899032                41.842986"
      ]
     },
     "execution_count": 122,
     "metadata": {},
     "output_type": "execute_result"
    }
   ],
   "source": [
    "data.describe()"
   ]
  },
  {
   "cell_type": "code",
   "execution_count": 123,
   "id": "d7881167",
   "metadata": {},
   "outputs": [],
   "source": [
    "x=data.iloc[:,0:1]"
   ]
  },
  {
   "cell_type": "code",
   "execution_count": 124,
   "id": "b63510b6",
   "metadata": {},
   "outputs": [],
   "source": [
    "y=data.iloc[:,1:2]"
   ]
  },
  {
   "cell_type": "code",
   "execution_count": 125,
   "id": "7535d378",
   "metadata": {},
   "outputs": [
    {
     "data": {
      "image/png": "[encoded data removed]",
      "text/plain": [
       "<Figure size 640x480 with 1 Axes>"
      ]
     },
     "metadata": {},
     "output_type": "display_data"
    }
   ],
   "source": [
    "plt.scatter(x,y);\n",
    "plt.xlabel(\"x_axises\");\n",
    "plt.ylabel(\"y_axises\");\n",
    "plt.title(\"Graph\");"
   ]
  },
  {
   "cell_type": "code",
   "execution_count": 126,
   "id": "053c5c28",
   "metadata": {},
   "outputs": [],
   "source": [
    "from sklearn.model_selection import train_test_split"
   ]
  },
  {
   "cell_type": "code",
   "execution_count": 127,
   "id": "3bed35db",
   "metadata": {},
   "outputs": [],
   "source": [
    "x_train,x_test,y_train,y_test=train_test_split(x,y,test_size=0.2,random_state=42);"
   ]
  },
  {
   "cell_type": "code",
   "execution_count": 128,
   "id": "b956894e",
   "metadata": {},
   "outputs": [
    {
     "data": {
      "text/plain": [
       "True"
      ]
     },
     "execution_count": 128,
     "metadata": {},
     "output_type": "execute_result"
    }
   ],
   "source": [
    "x_train.shape==y_train.shape"
   ]
  },
  {
   "cell_type": "code",
   "execution_count": 129,
   "id": "ab100f26",
   "metadata": {},
   "outputs": [
    {
     "data": {
      "text/plain": [
       "True"
      ]
     },
     "execution_count": 129,
     "metadata": {},
     "output_type": "execute_result"
    }
   ],
   "source": [
    "x_test.shape==y_test.shape"
   ]
  },
  {
   "cell_type": "code",
   "execution_count": 130,
   "id": "eebe031e",
   "metadata": {},
   "outputs": [],
   "source": [
    "from sklearn.linear_model import LinearRegression"
   ]
  },
  {
   "cell_type": "code",
   "execution_count": 131,
   "id": "e33d3a99",
   "metadata": {},
   "outputs": [],
   "source": [
    "linear_Reg=LinearRegression()"
   ]
  },
  {
   "cell_type": "code",
   "execution_count": 132,
   "id": "04f6e8c4",
   "metadata": {},
   "outputs": [],
   "source": [
    "linear_Reg.fit(x_train,y_train);"
   ]
  },
  {
   "cell_type": "code",
   "execution_count": 133,
   "id": "c4e0e50c",
   "metadata": {},
   "outputs": [],
   "source": [
    "y_pred=linear_Reg.predict(x_test);"
   ]
  },
  {
   "cell_type": "code",
   "execution_count": 134,
   "id": "67f89082",
   "metadata": {},
   "outputs": [
    {
     "name": "stdout",
     "output_type": "stream",
     "text": [
      "[[19.2247831 ]\n",
      " [12.89218952]\n",
      " [12.39975758]\n",
      " [12.99914196]\n",
      " [18.0259032 ]\n",
      " [15.96490086]\n",
      " [16.13605851]\n",
      " [16.34394177]\n",
      " [15.0173946 ]\n",
      " [17.3107825 ]]\n"
     ]
    }
   ],
   "source": [
    "print(y_pred);"
   ]
  },
  {
   "cell_type": "code",
   "execution_count": 135,
   "id": "ef6d4ba9",
   "metadata": {},
   "outputs": [
    {
     "data": {
      "text/plain": [
       "array([[-1.14658686]])"
      ]
     },
     "execution_count": 135,
     "metadata": {},
     "output_type": "execute_result"
    }
   ],
   "source": [
    "linear_Reg.coef_"
   ]
  },
  {
   "cell_type": "code",
   "execution_count": 136,
   "id": "f24a3303",
   "metadata": {},
   "outputs": [
    {
     "data": {
      "text/plain": [
       "array([17.13921313])"
      ]
     },
     "execution_count": 136,
     "metadata": {},
     "output_type": "execute_result"
    }
   ],
   "source": [
    "linear_Reg.intercept_"
   ]
  },
  {
   "cell_type": "code",
   "execution_count": 137,
   "id": "18068165",
   "metadata": {},
   "outputs": [],
   "source": [
    "from sklearn.metrics import r2_score"
   ]
  },
  {
   "cell_type": "code",
   "execution_count": 138,
   "id": "00c69fa3",
   "metadata": {},
   "outputs": [],
   "source": [
    "r2=r2_score(y_test,y_pred);"
   ]
  },
  {
   "cell_type": "code",
   "execution_count": 139,
   "id": "9a2b8b2a",
   "metadata": {},
   "outputs": [
    {
     "name": "stdout",
     "output_type": "stream",
     "text": [
      "-0.5751270190188227\n"
     ]
    }
   ],
   "source": [
    "print(r2);"
   ]
  },
  {
   "cell_type": "code",
   "execution_count": 140,
   "id": "003d8d15",
   "metadata": {},
   "outputs": [
    {
     "data": {
      "image/png": "[encoded data removed]",
      "text/plain": [
       "<Figure size 640x480 with 1 Axes>"
      ]
     },
     "metadata": {},
     "output_type": "display_data"
    }
   ],
   "source": [
    "plt.scatter(x_test,y_test,color=\"b\");\n",
    "plt.plot(x_test,linear_Reg.predict(x_test),color=\"r\",lw=3);\n",
    "plt.scatter(x_train,y_train,color=\"orange\");\n",
    "plt.plot(x_train,linear_Reg.predict(x_train),color=\"pink\");\n",
    "plt.xlabel(\"x_axises\");\n",
    "plt.ylabel(\"y_axises\");\n",
    "plt.title(\"Graph\");"
   ]
  },
  {
   "cell_type": "code",
   "execution_count": 141,
   "id": "5e867ccf",
   "metadata": {},
   "outputs": [],
   "source": [
    "from sklearn.preprocessing import PolynomialFeatures"
   ]
  },
  {
   "cell_type": "code",
   "execution_count": 142,
   "id": "43d9f3a3",
   "metadata": {},
   "outputs": [],
   "source": [
    "poly_Reg= PolynomialFeatures(degree=2);"
   ]
  },
  {
   "cell_type": "code",
   "execution_count": 143,
   "id": "ee742008",
   "metadata": {},
   "outputs": [],
   "source": [
    "x_train_poly=poly_Reg.fit_transform(x_train);"
   ]
  },
  {
   "cell_type": "code",
   "execution_count": 144,
   "id": "65542fd5",
   "metadata": {},
   "outputs": [
    {
     "data": {
      "text/plain": [
       "array([[ 1.        , -2.11186969,  4.45999359],\n",
       "       [ 1.        , -3.57855372, 12.8060467 ],\n",
       "       [ 1.        ,  2.31859124,  5.37586534],\n",
       "       [ 1.        , -2.67246083,  7.14204687],\n",
       "       [ 1.        , -3.94966109, 15.59982272]])"
      ]
     },
     "execution_count": 144,
     "metadata": {},
     "output_type": "execute_result"
    }
   ],
   "source": [
    "x_train_poly[:5]"
   ]
  },
  {
   "cell_type": "code",
   "execution_count": 145,
   "id": "372e180d",
   "metadata": {},
   "outputs": [],
   "source": [
    "x_test_poly=poly_Reg.transform(x_test);"
   ]
  },
  {
   "cell_type": "code",
   "execution_count": 146,
   "id": "db051c40",
   "metadata": {},
   "outputs": [
    {
     "data": {
      "text/plain": [
       "array([[ 1.        , -1.81893761,  3.30853403],\n",
       "       [ 1.        ,  3.70405744, 13.72004151],\n",
       "       [ 1.        ,  4.13353379, 17.08610158],\n",
       "       [ 1.        ,  3.61077848, 13.03772121],\n",
       "       [ 1.        , -0.77333004,  0.59803936]])"
      ]
     },
     "execution_count": 146,
     "metadata": {},
     "output_type": "execute_result"
    }
   ],
   "source": [
    "x_test_poly[:5]"
   ]
  },
  {
   "cell_type": "code",
   "execution_count": 147,
   "id": "df09b03a",
   "metadata": {},
   "outputs": [],
   "source": [
    "linear_Reg.fit(x_train_poly,y_train);"
   ]
  },
  {
   "cell_type": "code",
   "execution_count": 148,
   "id": "b57aec54",
   "metadata": {},
   "outputs": [],
   "source": [
    "y_pred_poly=linear_Reg.predict(x_test_poly);"
   ]
  },
  {
   "cell_type": "code",
   "execution_count": 149,
   "id": "54e077f4",
   "metadata": {},
   "outputs": [
    {
     "name": "stdout",
     "output_type": "stream",
     "text": [
      "[[10.24499852]\n",
      " [25.82807714]\n",
      " [31.8241041 ]\n",
      " [24.61704203]\n",
      " [ 4.43380256]\n",
      " [ 4.00785672]\n",
      " [ 3.58277491]\n",
      " [ 3.17865087]\n",
      " [ 7.86990452]\n",
      " [ 2.91591368]]\n"
     ]
    }
   ],
   "source": [
    "print(y_pred_poly);"
   ]
  },
  {
   "cell_type": "code",
   "execution_count": 150,
   "id": "6c7f042c",
   "metadata": {},
   "outputs": [
    {
     "data": {
      "text/plain": [
       "array([[ 0.        , -0.70641926,  1.87145125]])"
      ]
     },
     "execution_count": 150,
     "metadata": {},
     "output_type": "execute_result"
    }
   ],
   "source": [
    "linear_Reg.coef_"
   ]
  },
  {
   "cell_type": "code",
   "execution_count": 151,
   "id": "4e2e7129",
   "metadata": {},
   "outputs": [
    {
     "data": {
      "text/plain": [
       "array([2.76830583])"
      ]
     },
     "execution_count": 151,
     "metadata": {},
     "output_type": "execute_result"
    }
   ],
   "source": [
    "linear_Reg.intercept_"
   ]
  },
  {
   "cell_type": "code",
   "execution_count": 152,
   "id": "b82958c3",
   "metadata": {},
   "outputs": [],
   "source": [
    "r2_poly=r2_score(y_test,y_pred_poly);"
   ]
  },
  {
   "cell_type": "code",
   "execution_count": 153,
   "id": "00205f38",
   "metadata": {},
   "outputs": [
    {
     "name": "stdout",
     "output_type": "stream",
     "text": [
      "0.8430551371938843\n"
     ]
    }
   ],
   "source": [
    "print(r2_poly);"
   ]
  },
  {
   "cell_type": "code",
   "execution_count": 171,
   "id": "3ed6077e",
   "metadata": {},
   "outputs": [
    {
     "data": {
      "image/png": "[encoded data removed]",
      "text/plain": [
       "<Figure size 640x480 with 1 Axes>"
      ]
     },
     "metadata": {},
     "output_type": "display_data"
    }
   ],
   "source": [
    "plt.scatter(x_train,y_train,color=\"b\");\n",
    "plt.plot(x,linear_Reg.predict(poly_Reg.fit_transform(x)),color=\"orange\");\n"
   ]
  },
  {
   "cell_type": "code",
   "execution_count": 167,
   "id": "86e13849",
   "metadata": {},
   "outputs": [],
   "source": [
    "from sklearn.preprocessing import PolynomialFeatures"
   ]
  },
  {
   "cell_type": "code",
   "execution_count": 213,
   "id": "39159838",
   "metadata": {},
   "outputs": [],
   "source": [
    "poly_Reg3=PolynomialFeatures(degree=3,include_bias=False);"
   ]
  },
  {
   "cell_type": "code",
   "execution_count": 214,
   "id": "3a767127",
   "metadata": {},
   "outputs": [],
   "source": [
    "x_train_poly3=poly_Reg3.fit_transform(x_train)"
   ]
  },
  {
   "cell_type": "code",
   "execution_count": 215,
   "id": "67b92d54",
   "metadata": {},
   "outputs": [
    {
     "name": "stdout",
     "output_type": "stream",
     "text": [
      "[[ -2.11186969   4.45999359  -9.41892528]\n",
      " [ -3.57855372  12.8060467  -45.82712601]\n",
      " [  2.31859124   5.37586534  12.46443427]\n",
      " [ -2.67246083   7.14204687 -19.08684049]\n",
      " [ -3.94966109  15.59982272 -61.61401279]]\n"
     ]
    }
   ],
   "source": [
    "print(x_train_poly3[:5]);"
   ]
  },
  {
   "cell_type": "code",
   "execution_count": 216,
   "id": "203e08d8",
   "metadata": {},
   "outputs": [],
   "source": [
    "x_test_poly3=poly_Reg3.transform(x_test)"
   ]
  },
  {
   "cell_type": "code",
   "execution_count": 217,
   "id": "fa5326d6",
   "metadata": {},
   "outputs": [
    {
     "name": "stdout",
     "output_type": "stream",
     "text": [
      "[[-1.81893761  3.30853403 -6.01801697]\n",
      " [ 3.70405744 13.72004151 50.8198218 ]\n",
      " [ 4.13353379 17.08610158 70.62597819]\n",
      " [ 3.61077848 13.03772121 47.07632316]\n",
      " [-0.77333004  0.59803936 -0.4624818 ]]\n"
     ]
    }
   ],
   "source": [
    "print(x_test_poly3[:5]);"
   ]
  },
  {
   "cell_type": "code",
   "execution_count": 218,
   "id": "8a0cf8fb",
   "metadata": {},
   "outputs": [],
   "source": [
    "poly_Reg3.fit(x_train_poly3,y_train);"
   ]
  },
  {
   "cell_type": "code",
   "execution_count": 219,
   "id": "d2cecafa",
   "metadata": {},
   "outputs": [],
   "source": [
    "y_pred_poly3=linear_Reg.predict(x_test_poly3);"
   ]
  },
  {
   "cell_type": "code",
   "execution_count": 209,
   "id": "8403ba78",
   "metadata": {},
   "outputs": [
    {
     "name": "stdout",
     "output_type": "stream",
     "text": [
      "[[10.24499852]\n",
      " [25.82807714]\n",
      " [31.8241041 ]\n",
      " [24.61704203]\n",
      " [ 4.43380256]\n",
      " [ 4.00785672]\n",
      " [ 3.58277491]\n",
      " [ 3.17865087]\n",
      " [ 7.86990452]\n",
      " [ 2.91591368]]\n"
     ]
    }
   ],
   "source": [
    "print(y_pred_poly3);"
   ]
  },
  {
   "cell_type": "code",
   "execution_count": 223,
   "id": "0af583ae",
   "metadata": {},
   "outputs": [
    {
     "name": "stdout",
     "output_type": "stream",
     "text": [
      "[[10.24499852]\n",
      " [25.82807714]\n",
      " [31.8241041 ]\n",
      " [24.61704203]\n",
      " [ 4.43380256]\n",
      " [ 4.00785672]\n",
      " [ 3.58277491]\n",
      " [ 3.17865087]\n",
      " [ 7.86990452]\n",
      " [ 2.91591368]]\n"
     ]
    }
   ],
   "source": [
    "print(y_pred_poly);"
   ]
  },
  {
   "cell_type": "code",
   "execution_count": 225,
   "id": "e62cf218",
   "metadata": {},
   "outputs": [
    {
     "name": "stdout",
     "output_type": "stream",
     "text": [
      "[[ 2.10763302e+01]\n",
      " [-6.23549461e+01]\n",
      " [-9.10473256e+01]\n",
      " [-5.70422102e+01]\n",
      " [ 2.95347540e+00]\n",
      " [-2.99733492e-02]\n",
      " [ 1.01885986e-01]\n",
      " [ 1.25730182e-01]\n",
      " [-4.33917459e+00]\n",
      " [ 1.69695137e-01]]\n"
     ]
    }
   ],
   "source": [
    "print(y_pred_poly-y_pred_poly3);"
   ]
  },
  {
   "cell_type": "code",
   "execution_count": 227,
   "id": "a17df8d5",
   "metadata": {},
   "outputs": [
    {
     "data": {
      "image/png": "[encoded data removed]",
      "text/plain": [
       "<Figure size 640x480 with 1 Axes>"
      ]
     },
     "metadata": {},
     "output_type": "display_data"
    }
   ],
   "source": [
    "plt.scatter(x_train,y_train,color=\"b\");\n",
    "plt.plot(x,linear_Reg.predict(poly_Reg3.fit_transform(x)),color=\"orange\");\n",
    "\n",
    "###too bad than REG2"
   ]
  },
  {
   "cell_type": "code",
   "execution_count": 228,
   "id": "15a67ba6",
   "metadata": {},
   "outputs": [],
   "source": [
    "r3_poly=r2_score(y_test,y_pred_poly3);"
   ]
  },
  {
   "cell_type": "code",
   "execution_count": 229,
   "id": "b610e934",
   "metadata": {},
   "outputs": [
    {
     "name": "stdout",
     "output_type": "stream",
     "text": [
      "-17.306733000947098\n"
     ]
    }
   ],
   "source": [
    "print(r3_poly);"
   ]
  },
  {
   "cell_type": "code",
   "execution_count": 231,
   "id": "61d98515",
   "metadata": {},
   "outputs": [],
   "source": [
    "r2_poly=r2_score(y_test,y_pred_poly);"
   ]
  },
  {
   "cell_type": "code",
   "execution_count": 232,
   "id": "89d80a56",
   "metadata": {},
   "outputs": [
    {
     "name": "stdout",
     "output_type": "stream",
     "text": [
      "0.8430551371938843\n"
     ]
    }
   ],
   "source": [
    "\n",
    "print(r2_poly);"
   ]
  },
  {
   "cell_type": "code",
   "execution_count": 233,
   "id": "6cd754ae",
   "metadata": {},
   "outputs": [
    {
     "name": "stdout",
     "output_type": "stream",
     "text": [
      "-18.14978813814098\n"
     ]
    }
   ],
   "source": [
    "print(r3_poly-r2_poly);"
   ]
  },
  {
   "cell_type": "code",
   "execution_count": null,
   "id": "41934a02",
   "metadata": {},
   "outputs": [],
   "source": []
  }
 ],
 "metadata": {
  "kernelspec": {
   "display_name": "Python 3 (ipykernel)",
   "language": "python",
   "name": "python3"
  },
  "language_info": {
   "codemirror_mode": {
    "name": "ipython",
    "version": 3
   },
   "file_extension": ".py",
   "mimetype": "text/x-python",
   "name": "python",
   "nbconvert_exporter": "python",
   "pygments_lexer": "ipython3",
   "version": "3.11.5"
  }
 },
 "nbformat": 4,
 "nbformat_minor": 5
}
