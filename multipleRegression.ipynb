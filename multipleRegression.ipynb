{
 "cells": [
  {
   "cell_type": "code",
   "execution_count": 1,
   "id": "aa99e38f",
   "metadata": {},
   "outputs": [],
   "source": [
    "#importing packages\n",
    "import pandas as pd\n",
    "import numpy as np"
   ]
  },
  {
   "cell_type": "code",
   "execution_count": 2,
   "id": "f70db4e3",
   "metadata": {},
   "outputs": [],
   "source": [
    "#loading dataset\n",
    "data=pd.read_csv(\"D:\\desktop\\Datasets\\multiple_linear_regression_dataset.csv\");"
   ]
  },
  {
   "cell_type": "code",
   "execution_count": 4,
   "id": "a5b77f74",
   "metadata": {},
   "outputs": [],
   "source": [
    "#data preprocessing\n",
    "data=data.dropna()"
   ]
  },
  {
   "cell_type": "code",
   "execution_count": 9,
   "id": "9182c1f2",
   "metadata": {},
   "outputs": [
    {
     "data": {
      "text/html": [
       "<div>\n",
       "<style scoped>\n",
       "    .dataframe tbody tr th:only-of-type {\n",
       "        vertical-align: middle;\n",
       "    }\n",
       "\n",
       "    .dataframe tbody tr th {\n",
       "        vertical-align: top;\n",
       "    }\n",
       "\n",
       "    .dataframe thead th {\n",
       "        text-align: right;\n",
       "    }\n",
       "</style>\n",
       "<table border=\"1\" class=\"dataframe\">\n",
       "  <thead>\n",
       "    <tr style=\"text-align: right;\">\n",
       "      <th></th>\n",
       "      <th>age</th>\n",
       "      <th>experience</th>\n",
       "      <th>income</th>\n",
       "    </tr>\n",
       "  </thead>\n",
       "  <tbody>\n",
       "    <tr>\n",
       "      <th>0</th>\n",
       "      <td>25</td>\n",
       "      <td>1</td>\n",
       "      <td>30450</td>\n",
       "    </tr>\n",
       "    <tr>\n",
       "      <th>1</th>\n",
       "      <td>30</td>\n",
       "      <td>3</td>\n",
       "      <td>35670</td>\n",
       "    </tr>\n",
       "    <tr>\n",
       "      <th>2</th>\n",
       "      <td>47</td>\n",
       "      <td>2</td>\n",
       "      <td>31580</td>\n",
       "    </tr>\n",
       "    <tr>\n",
       "      <th>3</th>\n",
       "      <td>32</td>\n",
       "      <td>5</td>\n",
       "      <td>40130</td>\n",
       "    </tr>\n",
       "    <tr>\n",
       "      <th>4</th>\n",
       "      <td>43</td>\n",
       "      <td>10</td>\n",
       "      <td>47830</td>\n",
       "    </tr>\n",
       "  </tbody>\n",
       "</table>\n",
       "</div>"
      ],
      "text/plain": [
       "   age  experience  income\n",
       "0   25           1   30450\n",
       "1   30           3   35670\n",
       "2   47           2   31580\n",
       "3   32           5   40130\n",
       "4   43          10   47830"
      ]
     },
     "execution_count": 9,
     "metadata": {},
     "output_type": "execute_result"
    }
   ],
   "source": [
    "data.head()"
   ]
  },
  {
   "cell_type": "code",
   "execution_count": 10,
   "id": "6a15d36f",
   "metadata": {},
   "outputs": [],
   "source": [
    "# taking x and y variables from dataset\n",
    "x=data.iloc[:,:2]"
   ]
  },
  {
   "cell_type": "code",
   "execution_count": 12,
   "id": "2f593c5f",
   "metadata": {},
   "outputs": [
    {
     "data": {
      "text/html": [
       "<div>\n",
       "<style scoped>\n",
       "    .dataframe tbody tr th:only-of-type {\n",
       "        vertical-align: middle;\n",
       "    }\n",
       "\n",
       "    .dataframe tbody tr th {\n",
       "        vertical-align: top;\n",
       "    }\n",
       "\n",
       "    .dataframe thead th {\n",
       "        text-align: right;\n",
       "    }\n",
       "</style>\n",
       "<table border=\"1\" class=\"dataframe\">\n",
       "  <thead>\n",
       "    <tr style=\"text-align: right;\">\n",
       "      <th></th>\n",
       "      <th>age</th>\n",
       "      <th>experience</th>\n",
       "    </tr>\n",
       "  </thead>\n",
       "  <tbody>\n",
       "    <tr>\n",
       "      <th>15</th>\n",
       "      <td>41</td>\n",
       "      <td>6</td>\n",
       "    </tr>\n",
       "    <tr>\n",
       "      <th>16</th>\n",
       "      <td>58</td>\n",
       "      <td>17</td>\n",
       "    </tr>\n",
       "    <tr>\n",
       "      <th>17</th>\n",
       "      <td>23</td>\n",
       "      <td>1</td>\n",
       "    </tr>\n",
       "    <tr>\n",
       "      <th>18</th>\n",
       "      <td>44</td>\n",
       "      <td>9</td>\n",
       "    </tr>\n",
       "    <tr>\n",
       "      <th>19</th>\n",
       "      <td>37</td>\n",
       "      <td>10</td>\n",
       "    </tr>\n",
       "  </tbody>\n",
       "</table>\n",
       "</div>"
      ],
      "text/plain": [
       "    age  experience\n",
       "15   41           6\n",
       "16   58          17\n",
       "17   23           1\n",
       "18   44           9\n",
       "19   37          10"
      ]
     },
     "execution_count": 12,
     "metadata": {},
     "output_type": "execute_result"
    }
   ],
   "source": [
    "x.tail()"
   ]
  },
  {
   "cell_type": "code",
   "execution_count": 13,
   "id": "64fbb69e",
   "metadata": {},
   "outputs": [],
   "source": [
    "y=data.iloc[:,2:3]"
   ]
  },
  {
   "cell_type": "code",
   "execution_count": 14,
   "id": "b6b11c33",
   "metadata": {},
   "outputs": [
    {
     "data": {
      "text/html": [
       "<div>\n",
       "<style scoped>\n",
       "    .dataframe tbody tr th:only-of-type {\n",
       "        vertical-align: middle;\n",
       "    }\n",
       "\n",
       "    .dataframe tbody tr th {\n",
       "        vertical-align: top;\n",
       "    }\n",
       "\n",
       "    .dataframe thead th {\n",
       "        text-align: right;\n",
       "    }\n",
       "</style>\n",
       "<table border=\"1\" class=\"dataframe\">\n",
       "  <thead>\n",
       "    <tr style=\"text-align: right;\">\n",
       "      <th></th>\n",
       "      <th>income</th>\n",
       "    </tr>\n",
       "  </thead>\n",
       "  <tbody>\n",
       "    <tr>\n",
       "      <th>15</th>\n",
       "      <td>38900</td>\n",
       "    </tr>\n",
       "    <tr>\n",
       "      <th>16</th>\n",
       "      <td>63600</td>\n",
       "    </tr>\n",
       "    <tr>\n",
       "      <th>17</th>\n",
       "      <td>30870</td>\n",
       "    </tr>\n",
       "    <tr>\n",
       "      <th>18</th>\n",
       "      <td>44190</td>\n",
       "    </tr>\n",
       "    <tr>\n",
       "      <th>19</th>\n",
       "      <td>48700</td>\n",
       "    </tr>\n",
       "  </tbody>\n",
       "</table>\n",
       "</div>"
      ],
      "text/plain": [
       "    income\n",
       "15   38900\n",
       "16   63600\n",
       "17   30870\n",
       "18   44190\n",
       "19   48700"
      ]
     },
     "execution_count": 14,
     "metadata": {},
     "output_type": "execute_result"
    }
   ],
   "source": [
    "y.tail()"
   ]
  },
  {
   "cell_type": "code",
   "execution_count": 15,
   "id": "02df3754",
   "metadata": {},
   "outputs": [],
   "source": [
    "#spliting the data into traning nad testing data\n",
    "from sklearn.model_selection import train_test_split\n",
    "x_train,x_test,y_train,y_test=train_test_split(x,y,test_size=0.2,random_state=42);"
   ]
  },
  {
   "cell_type": "code",
   "execution_count": 16,
   "id": "6f85413a",
   "metadata": {},
   "outputs": [],
   "source": [
    "from sklearn.linear_model import LinearRegression"
   ]
  },
  {
   "cell_type": "code",
   "execution_count": 18,
   "id": "f9038583",
   "metadata": {},
   "outputs": [],
   "source": [
    "model=LinearRegression();"
   ]
  },
  {
   "cell_type": "code",
   "execution_count": 19,
   "id": "9f81942c",
   "metadata": {},
   "outputs": [],
   "source": [
    "model.fit(x_train,y_train);"
   ]
  },
  {
   "cell_type": "code",
   "execution_count": 22,
   "id": "af41626e",
   "metadata": {},
   "outputs": [],
   "source": [
    "y_train_predict=model.predict(x_train);"
   ]
  },
  {
   "cell_type": "code",
   "execution_count": 23,
   "id": "dc5dc3a3",
   "metadata": {},
   "outputs": [],
   "source": [
    "y_test_predict=model.predict(x_test);"
   ]
  },
  {
   "cell_type": "code",
   "execution_count": 24,
   "id": "d5001ece",
   "metadata": {},
   "outputs": [],
   "source": [
    "# importing model evaluation functions\n",
    "from sklearn.metrics import mean_squared_error,r2_score,mean_absolute_error"
   ]
  },
  {
   "cell_type": "code",
   "execution_count": 29,
   "id": "64c1cdb4",
   "metadata": {},
   "outputs": [],
   "source": [
    "mse_train=mean_squared_error(y_train,y_train_predict);"
   ]
  },
  {
   "cell_type": "code",
   "execution_count": 27,
   "id": "f2a58ca6",
   "metadata": {},
   "outputs": [],
   "source": [
    "mse_test=mean_squared_error(y_test,y_test_predict);"
   ]
  },
  {
   "cell_type": "code",
   "execution_count": 30,
   "id": "a805997b",
   "metadata": {},
   "outputs": [],
   "source": [
    "mae_train=mean_absolute_error(y_train,y_train_predict);"
   ]
  },
  {
   "cell_type": "code",
   "execution_count": 32,
   "id": "70f29ac4",
   "metadata": {},
   "outputs": [],
   "source": [
    "mae_test=mean_absolute_error(y_test,y_test_predict);"
   ]
  },
  {
   "cell_type": "code",
   "execution_count": 33,
   "id": "6cdd1116",
   "metadata": {},
   "outputs": [],
   "source": [
    "r2_score_test=r2_score(y_test,y_test_predict)"
   ]
  },
  {
   "cell_type": "code",
   "execution_count": 34,
   "id": "fa02fae2",
   "metadata": {},
   "outputs": [],
   "source": [
    "r2_score_train=r2_score(y_train,y_train_predict)"
   ]
  },
  {
   "cell_type": "code",
   "execution_count": 36,
   "id": "03cd547c",
   "metadata": {},
   "outputs": [
    {
     "name": "stdout",
     "output_type": "stream",
     "text": [
      "mse_train:1739507.5561484392\n",
      "mse_test:753796.7693734562\n",
      "mae_train:1031.32331797082\n",
      "mae_test:797.9113810821891\n",
      "r2_score_test:0.9387098237077885\n",
      "r2_score_train:0.9741213876189155\n",
      "\n"
     ]
    }
   ],
   "source": [
    "print(f\"mse_train:{mse_train}\\nmse_test:{mse_test}\\nmae_train:{mae_train}\\nmae_test:{mae_test}\\nr2_score_test:{r2_score_test}\\nr2_score_train:{r2_score_train}\\n\");"
   ]
  },
  {
   "cell_type": "code",
   "execution_count": 74,
   "id": "9a0cfde3",
   "metadata": {},
   "outputs": [
    {
     "data": {
      "text/plain": [
       "Text(0, 0.5, 'Residuals')"
      ]
     },
     "execution_count": 74,
     "metadata": {},
     "output_type": "execute_result"
    },
    {
     "data": {
      "image/png": "[encoded data removed]",
      "text/plain": [
       "<Figure size 640x480 with 2 Axes>"
      ]
     },
     "metadata": {},
     "output_type": "display_data"
    }
   ],
   "source": [
    "# Visualize residuals\n",
    "plt.subplot(1,2,1);\n",
    "plt.scatter(y_train_predict,y_train - y_train_predict);\n",
    "plt.axhline(y=0, color='r', linestyle='--')\n",
    "plt.xlabel('Predicted Values')\n",
    "plt.ylabel('Residuals')\n",
    "plt.title(\"(Training Set)\");\n",
    "plt.subplot(1,2,2);\n",
    "plt.scatter(y_test_predict,y_test - y_test_predict);\n",
    "plt.axhline(y=0, color='r', linestyle='--')\n",
    "plt.title(\"(Testing Set)\");\n",
    "plt.xlabel('Predicted Values')\n",
    "plt.ylabel('Residuals')"
   ]
  },
  {
   "cell_type": "code",
   "execution_count": 75,
   "id": "7d467dca",
   "metadata": {},
   "outputs": [
    {
     "data": {
      "text/plain": [
       "Text(0, 0.5, 'Residuals')"
      ]
     },
     "execution_count": 75,
     "metadata": {},
     "output_type": "execute_result"
    },
    {
     "data": {
      "image/png": "[encoded data removed]",
      "text/plain": [
       "<Figure size 640x480 with 2 Axes>"
      ]
     },
     "metadata": {},
     "output_type": "display_data"
    }
   ],
   "source": [
    "# Visualize actual vs predicted\n",
    "plt.subplot(1,2,1);\n",
    "plt.scatter(y_train,y_train_predict);\n",
    "plt.axhline(y=0, color='r', linestyle='--')\n",
    "plt.plot([y_train.min(), y_train.max()], [y_train.min(), y_train.max()],\"r--\");\n",
    "plt.title(\"(Training set)\");\n",
    "plt.xlabel('Predicted Values')\n",
    "plt.ylabel('Residuals')\n",
    "plt.subplot(1,2,2);\n",
    "plt.scatter(y_test,y_test_predict);\n",
    "plt.axhline(y=0, color='r', linestyle='--')\n",
    "plt.plot([y_train.min(),y_train.max()],[y_train.min(),y_train.max()],\"r--\")\n",
    "plt.title(\"(Test set)\");\n",
    "plt.xlabel('Predicted Values')\n",
    "plt.ylabel('Residuals')"
   ]
  },
  {
   "cell_type": "code",
   "execution_count": null,
   "id": "9b6bd468",
   "metadata": {},
   "outputs": [],
   "source": []
  }
 ],
 "metadata": {
  "kernelspec": {
   "display_name": "Python 3 (ipykernel)",
   "language": "python",
   "name": "python3"
  },
  "language_info": {
   "codemirror_mode": {
    "name": "ipython",
    "version": 3
   },
   "file_extension": ".py",
   "mimetype": "text/x-python",
   "name": "python",
   "nbconvert_exporter": "python",
   "pygments_lexer": "ipython3",
   "version": "3.11.5"
  }
 },
 "nbformat": 4,
 "nbformat_minor": 5
}
